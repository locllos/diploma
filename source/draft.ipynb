{
 "cells": [
  {
   "cell_type": "code",
   "execution_count": 1,
   "metadata": {},
   "outputs": [],
   "source": [
    "import torch"
   ]
  },
  {
   "cell_type": "code",
   "execution_count": 2,
   "metadata": {},
   "outputs": [
    {
     "data": {
      "text/plain": [
       "tensor([[0.3387, 0.3602, 0.8755, 0.4649, 0.1989, 0.4495, 0.7657, 0.6977],\n",
       "        [0.1935, 0.0505, 0.0987, 0.1236, 0.4943, 0.0479, 0.5749, 0.2429],\n",
       "        [0.7355, 0.8583, 0.8505, 0.8050, 0.6853, 0.6204, 0.2390, 0.0493],\n",
       "        [0.5416, 0.6087, 0.3878, 0.2869, 0.2362, 0.2939, 0.5184, 0.2437],\n",
       "        [0.6089, 0.1056, 0.1621, 0.0587, 0.7766, 0.7021, 0.3616, 0.0322],\n",
       "        [0.9034, 0.0017, 0.6520, 0.1022, 0.3602, 0.2529, 0.1450, 0.9840],\n",
       "        [0.9547, 0.4601, 0.8034, 0.9546, 0.5815, 0.4327, 0.9971, 0.0397],\n",
       "        [0.4073, 0.6891, 0.2452, 0.7053, 0.4335, 0.0544, 0.7366, 0.2005],\n",
       "        [0.4708, 0.5611, 0.6784, 0.8229, 0.6382, 0.4281, 0.9644, 0.4173],\n",
       "        [0.6527, 0.3343, 0.7284, 0.1683, 0.9869, 0.9588, 0.6938, 0.5700]])"
      ]
     },
     "execution_count": 2,
     "metadata": {},
     "output_type": "execute_result"
    }
   ],
   "source": [
    "model = torch.nn.GRU(8, 8)\n",
    "sequence = torch.rand((10, 8))\n",
    "sequence"
   ]
  },
  {
   "cell_type": "code",
   "execution_count": 6,
   "metadata": {},
   "outputs": [],
   "source": [
    "output, hidden = model(sequence)"
   ]
  },
  {
   "cell_type": "code",
   "execution_count": 7,
   "metadata": {},
   "outputs": [
    {
     "data": {
      "text/plain": [
       "tensor([[True, True, True, True, True, True, True, True]])"
      ]
     },
     "execution_count": 7,
     "metadata": {},
     "output_type": "execute_result"
    }
   ],
   "source": [
    "output[-1] == hidden"
   ]
  },
  {
   "cell_type": "code",
   "execution_count": null,
   "metadata": {},
   "outputs": [],
   "source": []
  }
 ],
 "metadata": {
  "kernelspec": {
   "display_name": "DS-3.10",
   "language": "python",
   "name": "python3"
  },
  "language_info": {
   "codemirror_mode": {
    "name": "ipython",
    "version": 3
   },
   "file_extension": ".py",
   "mimetype": "text/x-python",
   "name": "python",
   "nbconvert_exporter": "python",
   "pygments_lexer": "ipython3",
   "version": "3.10.13"
  }
 },
 "nbformat": 4,
 "nbformat_minor": 2
}
